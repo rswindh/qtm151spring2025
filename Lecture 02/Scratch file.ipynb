{
 "cells": [
  {
   "cell_type": "code",
   "execution_count": 1,
   "metadata": {},
   "outputs": [
    {
     "name": "stdout",
     "output_type": "stream",
     "text": [
      "1.25\n",
      "1.1857142857142857\n",
      "1.1880151662982128\n",
      "1.1880184060672985\n",
      "1.1880184060737013\n",
      "1.188018406073701\n",
      "1.1880184060737016\n",
      "1.1880184060737016\n",
      "1.1880184060737016\n",
      "1.1880184060737016\n"
     ]
    },
    {
     "data": {
      "text/plain": [
       "1.1880184060737016"
      ]
     },
     "execution_count": 1,
     "metadata": {},
     "output_type": "execute_result"
    }
   ],
   "source": [
    "def f(x):\n",
    "  return x**3 - 5*x**2 + 10*x - 6.5\n",
    "\n",
    "def df(x):\n",
    "  return 3*x**2-10*x +10\n",
    "\n",
    "def new(a):\n",
    "  return a-(f(a)/df(a))\n",
    "\n",
    "def new(a):\n",
    "  x=a-(f(a)/df(a))\n",
    "  print(x)\n",
    "  return x\n",
    "\n",
    "new(new(new(new(new(new(new(new(new(new(2))))))))))\n",
    "\n"
   ]
  },
  {
   "cell_type": "code",
   "execution_count": 4,
   "metadata": {},
   "outputs": [],
   "source": [
    "name=\"Rachel\""
   ]
  },
  {
   "cell_type": "code",
   "execution_count": 3,
   "metadata": {},
   "outputs": [
    {
     "name": "stdout",
     "output_type": "stream",
     "text": [
      "1.25\n",
      "1.5258064516129033\n",
      "1.5960666861208594\n",
      "1.600685100786159\n",
      "1.600704679549041\n",
      "1.6007046799002875\n",
      "1.6007046799002889\n",
      "1.6007046799002889\n",
      "1.6007046799002889\n",
      "1.6007046799002889\n"
     ]
    },
    {
     "data": {
      "text/plain": [
       "1.6007046799002889"
      ]
     },
     "execution_count": 3,
     "metadata": {},
     "output_type": "execute_result"
    }
   ],
   "source": [
    "def f(x):\n",
    "  return x**3 - 10*x**2 + 30*x - 26.5\n",
    "\n",
    "def df(x):\n",
    "  return 3*x**2-20*x+30\n",
    "\n",
    "def new(a):\n",
    "  return a-(f(a)/df(a))\n",
    "\n",
    "def new(a):\n",
    "  x=a-(f(a)/df(a))\n",
    "  print(x)\n",
    "  return x\n",
    "\n",
    "new(new(new(new(new(new(new(new(new(new(2))))))))))\n",
    "\n"
   ]
  },
  {
   "cell_type": "code",
   "execution_count": 18,
   "metadata": {},
   "outputs": [
    {
     "name": "stdout",
     "output_type": "stream",
     "text": [
      "3\n",
      "3.5\n"
     ]
    }
   ],
   "source": [
    "firstname=\"Rachel\"\n",
    "last_name=\" Windham\"\n",
    "name\n",
    "\n",
    "number3=3\n",
    "number3andahalf=3.5\n",
    "print(number3)\n",
    "print(number3andahalf)\n",
    "\n",
    "\n",
    "favcolor=\"rosegold\"\n",
    "\n",
    "favcolor\n",
    "\n",
    "favoritemovie1=\"10 things i hate about you\"\n",
    "favoritemovie2=\"Incantation\"\n",
    "favoritemovie3=\"La La Land\"\n",
    "\n"
   ]
  },
  {
   "cell_type": "code",
   "execution_count": 14,
   "metadata": {},
   "outputs": [
    {
     "name": "stdout",
     "output_type": "stream",
     "text": [
      "5\n",
      "6\n",
      "-1\n",
      "0.6666666666666666\n",
      "8\n"
     ]
    },
    {
     "data": {
      "text/plain": [
       "3.25"
      ]
     },
     "execution_count": 14,
     "metadata": {},
     "output_type": "execute_result"
    }
   ],
   "source": [
    "print(2+3)\n",
    "print(2*3)\n",
    "print(2-3)\n",
    "print(2/3)\n",
    "print(2**3)\n",
    "\n",
    "(number3+number3andahalf)/2"
   ]
  },
  {
   "cell_type": "code",
   "execution_count": 19,
   "metadata": {},
   "outputs": [
    {
     "data": {
      "text/plain": [
       "'My name is Rachel'"
      ]
     },
     "execution_count": 19,
     "metadata": {},
     "output_type": "execute_result"
    }
   ],
   "source": [
    "name=str(3)\n",
    "\n",
    "\"My name is\"+ \" \" + firstname"
   ]
  },
  {
   "cell_type": "code",
   "execution_count": 26,
   "metadata": {},
   "outputs": [],
   "source": [
    "naamee=\"Rachel\"\n",
    "major='Qss'\n",
    "\n"
   ]
  },
  {
   "cell_type": "code",
   "execution_count": 27,
   "metadata": {},
   "outputs": [
    {
     "data": {
      "text/plain": [
       "list"
      ]
     },
     "execution_count": 27,
     "metadata": {},
     "output_type": "execute_result"
    }
   ],
   "source": [
    "list_numbers=[1,2,3,4,5]\n",
    "\n",
    "type(list_numbers)\n"
   ]
  }
 ],
 "metadata": {
  "kernelspec": {
   "display_name": "base",
   "language": "python",
   "name": "python3"
  },
  "language_info": {
   "codemirror_mode": {
    "name": "ipython",
    "version": 3
   },
   "file_extension": ".py",
   "mimetype": "text/x-python",
   "name": "python",
   "nbconvert_exporter": "python",
   "pygments_lexer": "ipython3",
   "version": "3.12.7"
  }
 },
 "nbformat": 4,
 "nbformat_minor": 2
}
